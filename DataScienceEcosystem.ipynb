{
 "cells": [
  {
   "cell_type": "markdown",
   "id": "9a11e98b",
   "metadata": {},
   "source": [
    "# Data Science Tools and Ecosystem"
   ]
  },
  {
   "cell_type": "markdown",
   "id": "a2f24a35",
   "metadata": {},
   "source": [
    "## In this notebook, Data Science Tools and Ecosystem are summarized."
   ]
  },
  {
   "cell_type": "markdown",
   "id": "34d56e84",
   "metadata": {},
   "source": [
    "### Objectives\n",
    "\n",
    "List popular languages for Data Science\n",
    "List commonly used libraries for Data Science\n",
    "List commonly used tools for Data Science"
   ]
  },
  {
   "cell_type": "markdown",
   "id": "5c6bf9c8",
   "metadata": {},
   "source": [
    "### Some of the popular languages that Data Scientists use are:\n",
    "\n",
    "1. Python – Widely used for data analysis, machine learning, and visualization due to its extensive libraries like Pandas, NumPy, Scikit-learn, and TensorFlow.  \n",
    "2. R – Popular in statistical computing and data visualization, with strong packages like ggplot2 and dplyr.  \n",
    "3. SQL – Essential for querying and managing structured data in relational databases."
   ]
  },
  {
   "cell_type": "markdown",
   "id": "99fed98e",
   "metadata": {},
   "source": [
    "### Some of the commonly used libraries that Data Scientists include:\n",
    "\n",
    "1. Pandas – Used for data manipulation and analysis, offering data structures like DataFrames.  \n",
    "2. NumPy – Provides support for large multi-dimensional arrays and matrices, along with mathematical functions.  \n",
    "3. Scikit-learn – A machine learning library with tools for classification, regression, and clustering.\n",
    "4. Matplotlib – A visualization library for creating static, animated, and interactive plots.  \n",
    "5. TensorFlow – An open-source framework for deep learning and machine learning applications.  \n"
   ]
  },
  {
   "cell_type": "markdown",
   "id": "b8e3e170",
   "metadata": {},
   "source": [
    "|Data Science Tools|\n",
    "|------------------|\n",
    "|Jupyter Notebook|\n",
    "|RStudio|\n",
    "|Apache Zeppelin|"
   ]
  },
  {
   "cell_type": "markdown",
   "id": "7c3fd407",
   "metadata": {},
   "source": [
    "### Below are a few examples of evaluating arithmetic expressions in Python\n",
    "\n",
    "1. 2 + 3 = 5\n",
    "2. 2 * 4 = 8\n",
    "4. (5 + 3) * 2 ** 2 / 4 - 1"
   ]
  },
  {
   "cell_type": "code",
   "execution_count": 3,
   "id": "c232e094",
   "metadata": {},
   "outputs": [
    {
     "data": {
      "text/plain": [
       "17"
      ]
     },
     "execution_count": 3,
     "metadata": {},
     "output_type": "execute_result"
    }
   ],
   "source": [
    "#This a simple arithmetic expression to mutiply then add integers\n",
    "(3*4)+5"
   ]
  },
  {
   "cell_type": "code",
   "execution_count": 4,
   "id": "1b7198a1",
   "metadata": {},
   "outputs": [
    {
     "data": {
      "text/plain": [
       "3.3333333333333335"
      ]
     },
     "execution_count": 4,
     "metadata": {},
     "output_type": "execute_result"
    }
   ],
   "source": [
    "# This will convert 200 minutes to hours by diving by 60\n",
    "200/60 "
   ]
  },
  {
   "cell_type": "markdown",
   "id": "021f822e",
   "metadata": {},
   "source": [
    "## Author \n",
    "\n",
    "Ronald F. Agyei"
   ]
  },
  {
   "cell_type": "code",
   "execution_count": null,
   "id": "39d56673",
   "metadata": {},
   "outputs": [],
   "source": []
  }
 ],
 "metadata": {
  "kernelspec": {
   "display_name": "Python 3 (ipykernel)",
   "language": "python",
   "name": "python3"
  },
  "language_info": {
   "codemirror_mode": {
    "name": "ipython",
    "version": 3
   },
   "file_extension": ".py",
   "mimetype": "text/x-python",
   "name": "python",
   "nbconvert_exporter": "python",
   "pygments_lexer": "ipython3",
   "version": "3.9.13"
  }
 },
 "nbformat": 4,
 "nbformat_minor": 5
}
